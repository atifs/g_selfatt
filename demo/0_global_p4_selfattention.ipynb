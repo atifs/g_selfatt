{
 "cells": [
  {
   "cell_type": "markdown",
   "metadata": {
    "pycharm": {
     "name": "#%% md\n"
    }
   },
   "source": [
    "## Demo Global P4 Local Self-Attention\n",
    "\n",
    "In this demo, we will analyze the equivariance properties of p4m group-equivariant self-attention models (i.e., to rotations by 90 degrees and reflections).\n",
    "\n",
    "First, we will demonstrate the translation equivariance of the model and, subsequently, we will perform an analysis into the rotation and reflection equivariance properties of the model."
   ]
  },
  {
   "cell_type": "markdown",
   "metadata": {
    "pycharm": {
     "name": "#%%\n"
    }
   },
   "source": [
    "## Importing Libraries\n",
    "Add the library to the system path via the relative folder structure:"
   ]
  },
  {
   "cell_type": "code",
   "execution_count": 1,
   "metadata": {},
   "outputs": [],
   "source": [
    "%load_ext autoreload\n",
    "%autoreload 2"
   ]
  },
  {
   "cell_type": "code",
   "execution_count": 2,
   "metadata": {},
   "outputs": [],
   "source": [
    "import os,sys\n",
    "g_selfatt_source =  os.path.join(os.getcwd(), '..')\n",
    "if g_selfatt_source not in sys.path:\n",
    "    sys.path.append(g_selfatt_source)"
   ]
  },
  {
   "cell_type": "markdown",
   "metadata": {},
   "source": [
    "Import the necessary libraries:"
   ]
  },
  {
   "cell_type": "code",
   "execution_count": 3,
   "metadata": {},
   "outputs": [],
   "source": [
    "# torch\n",
    "import torch\n",
    "import torch.nn as nn\n",
    "# project\n",
    "import g_selfatt\n",
    "# other\n",
    "from matplotlib import pyplot as plt\n",
    "import importlib"
   ]
  },
  {
   "cell_type": "markdown",
   "metadata": {},
   "source": [
    "## P4 Self-Attention Layers\n",
    "\n",
    "In what follows we take:\n",
    "\n",
    "* a random noise image f as input\n",
    "* apply a sequence of p4 self-attention layers to it f -> N(f)\n",
    "* translate the input (T(f)) via the action of the translation group on f and send it through the same sequence of layers and (T(f) -> N(T(f)))\n",
    "* then we test the equivariance property T'(N(f))=N(T(f)) In the above T denotes the translation operator of 2D images, and T' denotes the translation operator on feature maps.\n",
    "\n",
    "Subsequently, we repeat the process for rotations:\n",
    "\n",
    "* apply a sequence of p4 self-attention layers to it f -> N(f)\n",
    "* rotate the input (R(f)) via the action of the rotation group on f and send it through the same sequence of layers and (R(f) -> N(R(f)))\n",
    "* then we test the equivariance property R'(N(f))=N(R(f)) In the above R denotes the rotation operator of 2D images, and R' denotes the rotation operator (shift-twist) of SE(2) images, which is a planar rotation and a periodic shift along the extra rotation axis.\n",
    "\n",
    "\n",
    "Now, let us create a net with two self-attention layers, with a total of 3 ** 2 heads:"
   ]
  },
  {
   "cell_type": "markdown",
   "metadata": {},
   "source": [
    "### The input feature map"
   ]
  },
  {
   "cell_type": "code",
   "execution_count": 4,
   "metadata": {},
   "outputs": [],
   "source": [
    "Nxy = 15 # This spatial dimension\n",
    "N_in = 10 # This many feature channels\n",
    "B = 4 # Batch size\n",
    "# For now we work with a placeholder\n",
    "inputs = torch.randn([B,N_in,Nxy,Nxy], dtype=torch.float32)\n",
    "inputs[:,:, :4, :] = 0.0 \n",
    "inputs[:,:, :, :4] = 0.0 \n",
    "inputs[:,:, -4:,:] = 0.0 \n",
    "inputs[:,:, :, -4:] = 0.0 "
   ]
  },
  {
   "cell_type": "markdown",
   "metadata": {},
   "source": [
    "### Attention Layers"
   ]
  },
  {
   "cell_type": "code",
   "execution_count": 5,
   "metadata": {},
   "outputs": [],
   "source": [
    "# Layer parameters\n",
    "num_heads = 3 ** 2\n",
    "\n",
    "# Construct the group we want to test equivariance on.\n",
    "num_elements = 4\n",
    "group = g_selfatt.groups.SE2(num_elements)\n",
    "\n",
    "# Construct the layers.\n",
    "sa_1 = g_selfatt.nn.LiftSelfAttention(\n",
    "        group=group,\n",
    "        in_channels=N_in,\n",
    "        mid_channels=N_in,\n",
    "        out_channels=N_in * 2,\n",
    "        num_heads=num_heads,\n",
    "        max_pos_embedding=Nxy,\n",
    "        attention_dropout_rate=0.)\n",
    "\n",
    "sa_2 = g_selfatt.nn.GroupSelfAttention(\n",
    "    group=group,\n",
    "        in_channels=N_in * 2, \n",
    "        mid_channels=N_in, \n",
    "        out_channels=N_in * 4,\n",
    "        num_heads=num_heads,\n",
    "        max_pos_embedding=Nxy,\n",
    "        attention_dropout_rate=0.)\n",
    "    "
   ]
  },
  {
   "cell_type": "markdown",
   "metadata": {},
   "source": [
    "### Test the network - Translation Equivariance\n",
    "\n",
    "We create random noise input and translated noise:"
   ]
  },
  {
   "cell_type": "code",
   "execution_count": 6,
   "metadata": {},
   "outputs": [
    {
     "data": {
      "image/png": "[encoded data removed]",
      "text/plain": [
       "<Figure size 720x720 with 2 Axes>"
      ]
     },
     "metadata": {
      "needs_background": "light"
     },
     "output_type": "display_data"
    }
   ],
   "source": [
    "input_tensor = inputs\n",
    "input_tensor_trans = torch.roll(inputs, (1,1), dims=(-2,-1))\n",
    "\n",
    "f,axs = plt.subplots(1,2,figsize=(10,10))\n",
    "plt.subplot(1,2,1);plt.imshow(input_tensor.numpy()[0, 0,:, :])\n",
    "plt.subplot(1,2,2);plt.imshow(input_tensor_trans.numpy()[0,0,:,:,])\n",
    "plt.show()"
   ]
  },
  {
   "cell_type": "markdown",
   "metadata": {},
   "source": [
    "Pass the original random signal to the network and then its translated version"
   ]
  },
  {
   "cell_type": "code",
   "execution_count": 7,
   "metadata": {},
   "outputs": [],
   "source": [
    "#%%timeit\n",
    "out_1 = torch.relu(sa_1(input_tensor))\n",
    "out_2 = sa_2(out_1)\n",
    "\n",
    "out_1_trans = torch.relu(sa_1(input_tensor_trans))\n",
    "out_2_trans = sa_2(out_1_trans)"
   ]
  },
  {
   "cell_type": "markdown",
   "metadata": {},
   "source": [
    "Let's compare the results. Recall that now all feature maps are a funtion of the group. Thus it is composed of group.num_elements 'channels'."
   ]
  },
  {
   "cell_type": "code",
   "execution_count": 8,
   "metadata": {},
   "outputs": [
    {
     "name": "stdout",
     "output_type": "stream",
     "text": [
      "FIRST LAYER:\n",
      "\n",
      "The original input.\n"
     ]
    },
    {
     "data": {
      "image/png": "[encoded data removed]",
      "text/plain": [
       "<Figure size 1080x1080 with 4 Axes>"
      ]
     },
     "metadata": {
      "needs_background": "light"
     },
     "output_type": "display_data"
    },
    {
     "name": "stdout",
     "output_type": "stream",
     "text": [
      "The translated input.\n"
     ]
    },
    {
     "data": {
      "image/png": "[encoded data removed]",
      "text/plain": [
       "<Figure size 1080x1080 with 4 Axes>"
      ]
     },
     "metadata": {
      "needs_background": "light"
     },
     "output_type": "display_data"
    },
    {
     "name": "stdout",
     "output_type": "stream",
     "text": [
      "\n",
      " SECOND LAYER:\n",
      "\n",
      "The original input.\n"
     ]
    },
    {
     "data": {
      "image/png": "[encoded data removed]",
      "text/plain": [
       "<Figure size 1080x1080 with 4 Axes>"
      ]
     },
     "metadata": {
      "needs_background": "light"
     },
     "output_type": "display_data"
    },
    {
     "name": "stdout",
     "output_type": "stream",
     "text": [
      "The translated input.\n"
     ]
    },
    {
     "data": {
      "image/png": "[encoded data removed]",
      "text/plain": [
       "<Figure size 1080x1080 with 4 Axes>"
      ]
     },
     "metadata": {
      "needs_background": "light"
     },
     "output_type": "display_data"
    }
   ],
   "source": [
    "print('FIRST LAYER:\\n')\n",
    "\n",
    "print( 'The original input.')\n",
    "plt.subplots(1,group.num_elements, figsize=(15,15))\n",
    "for i in range(group.num_elements):\n",
    "    plt.subplot(1,group.num_elements,i+1)\n",
    "    plt.imshow(out_1.detach().numpy()[0,0,i,:,:])\n",
    "plt.show()\n",
    "\n",
    "print( 'The translated input.')\n",
    "plt.subplots(1,group.num_elements, figsize=(15,15))\n",
    "for i in range(group.num_elements):\n",
    "    plt.subplot(1,group.num_elements,i+1)\n",
    "    plt.imshow(out_1_trans.detach().numpy()[0,0,i,:,:])\n",
    "plt.show()\n",
    "\n",
    "print('\\n SECOND LAYER:\\n')\n",
    "\n",
    "print( 'The original input.')\n",
    "plt.subplots(1,group.num_elements, figsize=(15,15))\n",
    "for i in range(group.num_elements):\n",
    "    plt.subplot(1,group.num_elements,i+1)\n",
    "    plt.imshow(out_2.detach().numpy()[0,0,i,:,:])\n",
    "plt.show()\n",
    "\n",
    "print( 'The translated input.')\n",
    "plt.subplots(1,group.num_elements, figsize=(15,15))\n",
    "for i in range(group.num_elements):\n",
    "    plt.subplot(1,group.num_elements,i+1)\n",
    "    plt.imshow(out_2_trans.detach().numpy()[0,0,i,:,:])\n",
    "plt.show()"
   ]
  },
  {
   "cell_type": "markdown",
   "metadata": {},
   "source": [
    "### Test the network - Rotation Equivariance\n",
    "\n",
    "Now, let's analyze what occurs if the input image is rotated. Lets first see the input"
   ]
  },
  {
   "cell_type": "code",
   "execution_count": 9,
   "metadata": {},
   "outputs": [
    {
     "data": {
      "image/png": "[encoded data removed]",
      "text/plain": [
       "<Figure size 720x720 with 2 Axes>"
      ]
     },
     "metadata": {
      "needs_background": "light"
     },
     "output_type": "display_data"
    }
   ],
   "source": [
    "input_tensor = inputs\n",
    "input_tensor_90 = inputs.rot90(k=-1, dims=[-2,-1])\n",
    "\n",
    "f,axs = plt.subplots(1,2,figsize=(10,10))\n",
    "plt.subplot(1,2,1);plt.imshow(input_tensor.numpy()[0, 0,:, :])\n",
    "plt.subplot(1,2,2);plt.imshow(input_tensor_90.numpy()[0,0,:,:,]);\n",
    "plt.show()"
   ]
  },
  {
   "cell_type": "markdown",
   "metadata": {},
   "source": [
    "Pass the original random signal to the network and then its rotated version"
   ]
  },
  {
   "cell_type": "code",
   "execution_count": 10,
   "metadata": {},
   "outputs": [],
   "source": [
    "out_1 = torch.relu(sa_1(input_tensor))\n",
    "out_2 = sa_2(out_1)\n",
    "\n",
    "out_1_90 = torch.relu(sa_1(input_tensor_90))\n",
    "out_2_90 = sa_2(out_1_90)"
   ]
  },
  {
   "cell_type": "markdown",
   "metadata": {},
   "source": [
    "Let's compare the results"
   ]
  },
  {
   "cell_type": "code",
   "execution_count": 11,
   "metadata": {},
   "outputs": [
    {
     "name": "stdout",
     "output_type": "stream",
     "text": [
      "FIRST LAYER:\n",
      "\n",
      "The original input.\n"
     ]
    },
    {
     "data": {
      "image/png": "[encoded data removed]",
      "text/plain": [
       "<Figure size 1080x1080 with 4 Axes>"
      ]
     },
     "metadata": {
      "needs_background": "light"
     },
     "output_type": "display_data"
    },
    {
     "name": "stdout",
     "output_type": "stream",
     "text": [
      "The rotated input.\n"
     ]
    },
    {
     "data": {
      "image/png": "[encoded data removed]",
      "text/plain": [
       "<Figure size 1080x1080 with 4 Axes>"
      ]
     },
     "metadata": {
      "needs_background": "light"
     },
     "output_type": "display_data"
    },
    {
     "name": "stdout",
     "output_type": "stream",
     "text": [
      "\n",
      " SECOND LAYER:\n",
      "\n",
      "The original input.\n"
     ]
    },
    {
     "data": {
      "image/png": "[encoded data removed]",
      "text/plain": [
       "<Figure size 1080x1080 with 4 Axes>"
      ]
     },
     "metadata": {
      "needs_background": "light"
     },
     "output_type": "display_data"
    },
    {
     "name": "stdout",
     "output_type": "stream",
     "text": [
      "The rotated input.\n"
     ]
    },
    {
     "data": {
      "image/png": "[encoded data removed]",
      "text/plain": [
       "<Figure size 1080x1080 with 4 Axes>"
      ]
     },
     "metadata": {
      "needs_background": "light"
     },
     "output_type": "display_data"
    }
   ],
   "source": [
    "print('FIRST LAYER:\\n')\n",
    "vmax = torch.max(out_1[0,0,:,:,:]).item()\n",
    "vmax = vmax if torch.max(out_1_90[0,0,:,:,:]).item() < vmax else torch.max(out_1_90[0,0,:,:,:]).item()\n",
    "vmin = torch.min(out_1[0,0,:,:,:]).item()\n",
    "vmin = vmin if torch.min(out_1_90[0,0,:,:,:]).item() < vmin else torch.min(out_1_90[0,0,:,:,:]).item()\n",
    "\n",
    "print( 'The original input.')\n",
    "plt.subplots(1,group.num_elements, figsize=(15,15))\n",
    "for i in range(group.num_elements):\n",
    "    plt.subplot(1,group.num_elements,i+1)\n",
    "    plt.imshow(out_1.detach().numpy()[0,0,i,:,:], vmin=vmin, vmax=vmax)\n",
    "plt.show()\n",
    "\n",
    "print( 'The rotated input.')\n",
    "plt.subplots(1,group.num_elements, figsize=(15,15))\n",
    "for i in range(group.num_elements):\n",
    "    plt.subplot(1,group.num_elements,i+1)\n",
    "    plt.imshow(out_1_90.detach().numpy()[0,0,i,:,:], vmin=vmin, vmax=vmax)\n",
    "plt.show()\n",
    "\n",
    "print('\\n SECOND LAYER:\\n')\n",
    "vmax = torch.max(out_2[0,0,:,:,:]).item()\n",
    "vmax = vmax if torch.max(out_2_90[0,0,:,:,:]).item() < vmax else torch.max(out_2_90[0,0,:,:,:]).item()\n",
    "vmin = torch.min(out_2[0,0,:,:,:]).item()\n",
    "vmin = vmin if torch.min(out_2_90[0,0,:,:,:]).item() < vmin else torch.min(out_2_90[0,0,:,:,:]).item()\n",
    "\n",
    "print( 'The original input.')\n",
    "\n",
    "plt.subplots(1,group.num_elements, figsize=(15,15))\n",
    "for i in range(group.num_elements):\n",
    "    plt.subplot(1,group.num_elements,i+1)\n",
    "    plt.imshow(out_2.detach().numpy()[0,0,i,:,:], vmin=vmin, vmax=vmax)\n",
    "plt.show()\n",
    "\n",
    "print( 'The rotated input.')\n",
    "plt.subplots(1,group.num_elements, figsize=(15,15))\n",
    "for i in range(group.num_elements):\n",
    "    plt.subplot(1,group.num_elements,i+1)\n",
    "    plt.imshow(out_2_90.detach().numpy()[0,0,i,:,:], vmin=vmin, vmax=vmax)\n",
    "plt.show()"
   ]
  },
  {
   "cell_type": "markdown",
   "metadata": {},
   "source": [
    "As we can see, the responses are equivalent for rotated versions of the same image. Up to a permutation of the axes (1 to the right) and a rotation of each feature map (by a corresponding rotation to that of the input)."
   ]
  },
  {
   "cell_type": "code",
   "execution_count": null,
   "metadata": {},
   "outputs": [],
   "source": []
  }
 ],
 "metadata": {
  "kernelspec": {
   "display_name": "Python 3",
   "language": "python",
   "name": "python3"
  },
  "language_info": {
   "codemirror_mode": {
    "name": "ipython",
    "version": 3
   },
   "file_extension": ".py",
   "mimetype": "text/x-python",
   "name": "python",
   "nbconvert_exporter": "python",
   "pygments_lexer": "ipython3",
   "version": "3.7.7"
  }
 },
 "nbformat": 4,
 "nbformat_minor": 4
}